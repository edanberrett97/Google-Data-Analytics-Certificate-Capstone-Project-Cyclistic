{
 "cells": [
  {
   "cell_type": "markdown",
   "metadata": {},
   "source": [
    "Importing packages used."
   ]
  },
  {
   "cell_type": "code",
   "execution_count": 1,
   "metadata": {},
   "outputs": [],
   "source": [
    "import pandas as pd\n",
    "import matplotlib.pyplot as plt\n",
    "import numpy as np"
   ]
  },
  {
   "cell_type": "markdown",
   "metadata": {},
   "source": [
    "First we will load all the trips tables and combine them into one. To start, we will create a list of their file names. Rather than writing all 49 file names, we can exploit pockets of consistency across certain periods of time to generate these with a loop."
   ]
  },
  {
   "cell_type": "code",
   "execution_count": 3,
   "metadata": {},
   "outputs": [],
   "source": [
    "trips_file_names = []\n",
    "\n",
    "for i in range(9):\n",
    "    \n",
    "    if i == 0:\n",
    "        \n",
    "        trips_file_names += ['Divvy_Trips_2013']\n",
    "        \n",
    "    if i == 1:\n",
    "        \n",
    "        trips_file_names += ['Divvy_Trips_2014_Q1Q2',\n",
    "                       'Divvy_Trips_2014-Q3-07',\n",
    "                       'Divvy_Trips_2014-Q3-0809',\n",
    "                       'Divvy_Trips_2014-Q4']\n",
    "        \n",
    "    if i == 2:\n",
    "        \n",
    "        trips_file_names += ['Divvy_Trips_2015-Q1',\n",
    "                       'Divvy_Trips_2015-Q2',\n",
    "                       'Divvy_Trips_2015_07',\n",
    "                       'Divvy_Trips_2015_08',\n",
    "                       'Divvy_Trips_2015_09',\n",
    "                       'Divvy_Trips_2015_Q4']\n",
    "        \n",
    "    if i == 3:\n",
    "        \n",
    "        trips_file_names += ['Divvy_Trips_2016_Q1',\n",
    "                       'Divvy_Trips_2016_04',\n",
    "                       'Divvy_Trips_2016_05',\n",
    "                       'Divvy_Trips_2016_06',\n",
    "                       'Divvy_Trips_2016_Q3',\n",
    "                       'Divvy_Trips_2016_Q4']\n",
    "        \n",
    "    if 3 < i < 7:\n",
    "        \n",
    "        trips_file_names += ['Divvy_Trips_' + str(i+2013) + '_Q' + str(j+1) for j in range(4)]\n",
    "        \n",
    "    if i == 7:\n",
    "        \n",
    "        trips_file_names += ['Divvy_Trips_2020_Q1']\n",
    "        trips_file_names += ['20200' + str(j+4) + '-divvy-tripdata' for j in range(6)]\n",
    "        trips_file_names += ['202005-divvy-tripdata 2']\n",
    "        trips_file_names += ['2020' + str(j+10) + '-divvy-tripdata' for j in range(3)]\n",
    "        \n",
    "    if i == 8:\n",
    "        \n",
    "        trips_file_names += ['20210' + str(j+1) + '-divvy-tripdata' for j in range(9)] \n",
    "        \n",
    "trips_file_names = [f + '.csv' for f in trips_file_names]"
   ]
  },
  {
   "cell_type": "code",
   "execution_count": 5,
   "metadata": {},
   "outputs": [
    {
     "name": "stdout",
     "output_type": "stream",
     "text": [
      "['Divvy_Trips_2013.csv', 'Divvy_Trips_2014_Q1Q2.csv', 'Divvy_Trips_2014-Q3-07.csv', 'Divvy_Trips_2014-Q3-0809.csv', 'Divvy_Trips_2014-Q4.csv', 'Divvy_Trips_2015-Q1.csv', 'Divvy_Trips_2015-Q2.csv', 'Divvy_Trips_2015_07.csv', 'Divvy_Trips_2015_08.csv', 'Divvy_Trips_2015_09.csv', 'Divvy_Trips_2015_Q4.csv', 'Divvy_Trips_2016_Q1.csv', 'Divvy_Trips_2016_04.csv', 'Divvy_Trips_2016_05.csv', 'Divvy_Trips_2016_06.csv', 'Divvy_Trips_2016_Q3.csv', 'Divvy_Trips_2016_Q4.csv', 'Divvy_Trips_2017_Q1.csv', 'Divvy_Trips_2017_Q2.csv', 'Divvy_Trips_2017_Q3.csv', 'Divvy_Trips_2017_Q4.csv', 'Divvy_Trips_2018_Q1.csv', 'Divvy_Trips_2018_Q2.csv', 'Divvy_Trips_2018_Q3.csv', 'Divvy_Trips_2018_Q4.csv', 'Divvy_Trips_2019_Q1.csv', 'Divvy_Trips_2019_Q2.csv', 'Divvy_Trips_2019_Q3.csv', 'Divvy_Trips_2019_Q4.csv', 'Divvy_Trips_2020_Q1.csv', '202004-divvy-tripdata.csv', '202005-divvy-tripdata.csv', '202006-divvy-tripdata.csv', '202007-divvy-tripdata.csv', '202008-divvy-tripdata.csv', '202009-divvy-tripdata.csv', '202005-divvy-tripdata 2.csv', '202010-divvy-tripdata.csv', '202011-divvy-tripdata.csv', '202012-divvy-tripdata.csv', '202101-divvy-tripdata.csv', '202102-divvy-tripdata.csv', '202103-divvy-tripdata.csv', '202104-divvy-tripdata.csv', '202105-divvy-tripdata.csv', '202106-divvy-tripdata.csv', '202107-divvy-tripdata.csv', '202108-divvy-tripdata.csv', '202109-divvy-tripdata.csv']\n"
     ]
    }
   ],
   "source": [
    "print(trips_file_names)"
   ]
  },
  {
   "cell_type": "markdown",
   "metadata": {},
   "source": [
    "Now we will load each of these files as a pandas dataframe and store the dataframes in a list."
   ]
  },
  {
   "cell_type": "code",
   "execution_count": 6,
   "metadata": {},
   "outputs": [],
   "source": [
    "trips_dataframes = [pd.read_csv('/Users/edanberrett/Desktop/Cyclistic Project/' + f,encoding = \"ISO-8859-1\",low_memory=False) for f in trips_file_names]"
   ]
  },
  {
   "cell_type": "code",
   "execution_count": 7,
   "metadata": {},
   "outputs": [
    {
     "name": "stdout",
     "output_type": "stream",
     "text": [
      "        trip_id         starttime          stoptime  bikeid  tripduration  \\\n",
      "584477   898749  2013-11-01 07:50  2013-11-01 08:03      11           755   \n",
      "\n",
      "        from_station_id             from_station_name  to_station_id  \\\n",
      "584477               91  Clinton St & Washington Blvd            199   \n",
      "\n",
      "               to_station_name    usertype gender  birthday  \n",
      "584477  Wabash Ave & Grand Ave  Subscriber   Male    1960.0  \n"
     ]
    }
   ],
   "source": [
    "print(trips_dataframes[0].sample())"
   ]
  },
  {
   "cell_type": "markdown",
   "metadata": {},
   "source": [
    "Now we will create a list with all the column names of every table in it, then count the number of instances of each unique element."
   ]
  },
  {
   "cell_type": "code",
   "execution_count": 8,
   "metadata": {},
   "outputs": [],
   "source": [
    "trips_column_lists = [list(df.columns) for df in trips_dataframes]\n",
    "trips_all_column_names = [y for x in trips_column_lists for y in x]"
   ]
  },
  {
   "cell_type": "code",
   "execution_count": 9,
   "metadata": {},
   "outputs": [
    {
     "name": "stdout",
     "output_type": "stream",
     "text": [
      "{'started_at': 20, 'gender': 27, 'from_station_id': 27, 'Member Gender': 2, '01 - Rental Details Bike ID': 2, 'end_time': 10, 'birthday': 1, '01 - Rental Details Duration In Seconds Uncapped': 2, 'ended_at': 20, 'bikeid': 27, 'member_casual': 20, 'rideable_type': 20, 'end_station_name': 20, 'start_station_name': 20, '01 - Rental Details Local Start Time': 2, 'usertype': 27, '03 - Rental Start Station Name': 2, '02 - Rental End Station Name': 2, '01 - Rental Details Rental ID': 2, 'end_station_id': 20, 'starttime': 17, 'end_lat': 20, 'start_time': 10, 'start_station_id': 20, 'stoptime': 17, '01 - Rental Details Local End Time': 2, 'end_lng': 20, 'start_lat': 20, '02 - Rental End Station ID': 2, 'birthyear': 26, '05 - Member Details Member Birthday Year': 2, 'tripduration': 27, 'ride_id': 20, 'to_station_id': 27, 'start_lng': 20, '03 - Rental Start Station ID': 2, 'User Type': 2, 'from_station_name': 27, 'trip_id': 27, 'to_station_name': 27}\n"
     ]
    }
   ],
   "source": [
    "def unique_count(L):\n",
    "    \n",
    "    counts = {}\n",
    "    \n",
    "    for x in set(L):\n",
    "        \n",
    "        counts.update({x:len([y for y in L if y == x])})\n",
    "        \n",
    "    return counts\n",
    "\n",
    "print(unique_count(trips_all_column_names))"
   ]
  },
  {
   "cell_type": "markdown",
   "metadata": {},
   "source": [
    "Let's sort by count to make this easier."
   ]
  },
  {
   "cell_type": "code",
   "execution_count": 10,
   "metadata": {},
   "outputs": [
    {
     "name": "stdout",
     "output_type": "stream",
     "text": [
      "{'birthday': 1, 'Member Gender': 2, '01 - Rental Details Bike ID': 2, '01 - Rental Details Duration In Seconds Uncapped': 2, '01 - Rental Details Local Start Time': 2, '03 - Rental Start Station Name': 2, '02 - Rental End Station Name': 2, '01 - Rental Details Rental ID': 2, '01 - Rental Details Local End Time': 2, '02 - Rental End Station ID': 2, '05 - Member Details Member Birthday Year': 2, '03 - Rental Start Station ID': 2, 'User Type': 2, 'end_time': 10, 'start_time': 10, 'starttime': 17, 'stoptime': 17, 'started_at': 20, 'ended_at': 20, 'member_casual': 20, 'rideable_type': 20, 'end_station_name': 20, 'start_station_name': 20, 'end_station_id': 20, 'end_lat': 20, 'start_station_id': 20, 'end_lng': 20, 'start_lat': 20, 'ride_id': 20, 'start_lng': 20, 'birthyear': 26, 'gender': 27, 'from_station_id': 27, 'bikeid': 27, 'usertype': 27, 'tripduration': 27, 'to_station_id': 27, 'from_station_name': 27, 'trip_id': 27, 'to_station_name': 27}\n"
     ]
    }
   ],
   "source": [
    "print(dict(sorted(unique_count(trips_all_column_names).items(), key=lambda item: item[1])))"
   ]
  },
  {
   "cell_type": "markdown",
   "metadata": {},
   "source": [
    "From this, we can infer the following mapping, which we will use to convert the column names of each table to new column names such that every table follows the same convention:"
   ]
  },
  {
   "cell_type": "code",
   "execution_count": 11,
   "metadata": {},
   "outputs": [],
   "source": [
    "trips_dfs_column_name_mappings = {\n",
    "\n",
    "    'trip_id':['01 - Rental Details Rental ID',\n",
    "               'ride_id',\n",
    "               'trip_id'],\n",
    "    \n",
    "    'start_station_id':['03 - Rental Start Station ID',\n",
    "                        'start_station_id',\n",
    "                        'from_station_id'],\n",
    "    \n",
    "    'end_station_id':['02 - Rental End Station ID',\n",
    "                      'end_station_id',\n",
    "                      'to_station_id'],\n",
    "    \n",
    "    'start_station_name':['03 - Rental Start Station Name',\n",
    "                          'start_station_name',\n",
    "                          'from_station_name'],\n",
    "    \n",
    "    'end_station_name':['02 - Rental End Station Name',\n",
    "                        'end_station_name',\n",
    "                        'to_station_name'],\n",
    "    \n",
    "    'started_at':['01 - Rental Details Local Start Time',\n",
    "                  'start_time',\n",
    "                  'starttime',\n",
    "                  'started_at'],\n",
    "    \n",
    "    'ended_at':['01 - Rental Details Local End Time',\n",
    "                'end_time',\n",
    "                'stoptime',\n",
    "                'ended_at'],\n",
    "    \n",
    "    'user_type':['User Type',\n",
    "                 'member_casual',\n",
    "                 'usertype'],\n",
    "    \n",
    "    'age_years':['birthday',\n",
    "                 '05 - Member Details Member Birthday Year',\n",
    "                 'birthyear'],\n",
    "    \n",
    "    'gender':['Member Gender',\n",
    "              'gender']\n",
    "    \n",
    "    }"
   ]
  },
  {
   "cell_type": "markdown",
   "metadata": {},
   "source": [
    "Let's create a list of the new column names in the above mapping and add 'new' to each name to avoid duplicate column names in some tables"
   ]
  },
  {
   "cell_type": "code",
   "execution_count": 12,
   "metadata": {},
   "outputs": [],
   "source": [
    "trips_dfs_new_column_names = [x + '_new' for x in trips_dfs_column_name_mappings]"
   ]
  },
  {
   "cell_type": "code",
   "execution_count": 13,
   "metadata": {},
   "outputs": [
    {
     "name": "stdout",
     "output_type": "stream",
     "text": [
      "['trip_id_new', 'start_station_id_new', 'end_station_id_new', 'start_station_name_new', 'end_station_name_new', 'started_at_new', 'ended_at_new', 'user_type_new', 'age_years_new', 'gender_new']\n"
     ]
    }
   ],
   "source": [
    "print(trips_dfs_new_column_names)"
   ]
  },
  {
   "cell_type": "markdown",
   "metadata": {},
   "source": [
    "Now we can create the table of all trips ever, starting by creating an empty dataframe with the above columns."
   ]
  },
  {
   "cell_type": "code",
   "execution_count": 14,
   "metadata": {},
   "outputs": [],
   "source": [
    "full_trips_df = pd.DataFrame({x:[] for x in trips_dfs_new_column_names})"
   ]
  },
  {
   "cell_type": "code",
   "execution_count": 15,
   "metadata": {},
   "outputs": [
    {
     "name": "stdout",
     "output_type": "stream",
     "text": [
      "Index(['trip_id_new', 'start_station_id_new', 'end_station_id_new',\n",
      "       'start_station_name_new', 'end_station_name_new', 'started_at_new',\n",
      "       'ended_at_new', 'user_type_new', 'age_years_new', 'gender_new'],\n",
      "      dtype='object')\n"
     ]
    }
   ],
   "source": [
    "print(full_trips_df.columns)"
   ]
  },
  {
   "cell_type": "code",
   "execution_count": 17,
   "metadata": {},
   "outputs": [],
   "source": [
    "for df in trips_dataframes:\n",
    "    \n",
    "    'for each of the column names in the table of new trips, we want to find the column in the current dataframe that corresponds to this:'\n",
    "    \n",
    "    for name in trips_dfs_column_name_mappings:\n",
    "        \n",
    "        count = 0\n",
    "        \n",
    "        for x in list(df.columns):\n",
    "            \n",
    "            if x in trips_dfs_column_name_mappings[name]:\n",
    "                \n",
    "                new_column = pd.DataFrame({name + '_new':df[x].to_numpy()})\n",
    "                \n",
    "                df = pd.concat([df,new_column],axis=1)\n",
    "                \n",
    "                count += 1 #if a corresponding column is found\n",
    "                \n",
    "        'if a corresponding column is not found, add an empty column:'\n",
    "                \n",
    "        if count == 0:\n",
    "            \n",
    "            new_column = pd.DataFrame({name + '_new':['' for i in range(len(df))]})\n",
    "            \n",
    "            df = pd.concat([df,new_column],axis=1)\n",
    "            \n",
    "    'append the new part of the dataframe to the table of all trips ever'\n",
    "            \n",
    "    full_trips_df = full_trips_df.append(df[trips_dfs_new_column_names])"
   ]
  },
  {
   "cell_type": "markdown",
   "metadata": {},
   "source": [
    "Now that we have the complete table for all trips ever, we can begin some analysis"
   ]
  },
  {
   "cell_type": "code",
   "execution_count": 153,
   "metadata": {},
   "outputs": [],
   "source": [
    "trips = full_trips_df.sample(1000000)"
   ]
  },
  {
   "cell_type": "code",
   "execution_count": 23,
   "metadata": {},
   "outputs": [
    {
     "name": "stdout",
     "output_type": "stream",
     "text": [
      "100000 started_at_new    100000\n",
      "ended_at_new      100000\n",
      "dtype: int64\n"
     ]
    }
   ],
   "source": [
    "print(len(trips),trips[['started_at_new','ended_at_new']].count())"
   ]
  },
  {
   "cell_type": "markdown",
   "metadata": {},
   "source": [
    "No NaNs in these columns - every trip has a start and end time"
   ]
  },
  {
   "cell_type": "code",
   "execution_count": 24,
   "metadata": {},
   "outputs": [
    {
     "name": "stdout",
     "output_type": "stream",
     "text": [
      "             started_at_new         ended_at_new\n",
      "591081   8/25/2017 16:13:53   8/25/2017 16:31:59\n",
      "169403  2021-08-13 11:59:46  2021-08-13 12:07:35\n",
      "254878      6/13/2015 15:25      6/13/2015 15:45\n",
      "743433  2019-08-09 18:51:27  2019-08-09 19:50:43\n",
      "56204       12/13/2017 8:21      12/13/2017 8:26\n",
      "...                     ...                  ...\n",
      "863759  2019-08-16 11:22:31  2019-08-16 11:36:08\n",
      "639008  2021-09-09 07:55:09  2021-09-09 08:17:08\n",
      "136182      4/16/2016 15:45      4/16/2016 16:08\n",
      "79301    12/3/2016 09:01:46   12/3/2016 09:10:54\n",
      "440041    6/4/2017 16:55:14    6/4/2017 17:30:45\n",
      "\n",
      "[100 rows x 2 columns]\n"
     ]
    }
   ],
   "source": [
    "print(trips[['started_at_new','ended_at_new']].sample(100))"
   ]
  },
  {
   "cell_type": "markdown",
   "metadata": {},
   "source": [
    "Appears that date and time to minute or date and time to second is always given. Where only to minute is given, let's add a random number of seconds from 0 - 59 on the end."
   ]
  },
  {
   "cell_type": "code",
   "execution_count": 154,
   "metadata": {},
   "outputs": [],
   "source": [
    "def add_random_seconds(dt):\n",
    "    \n",
    "    if len(str.split(dt,':')) == 2:\n",
    "        \n",
    "        return dt + ':' + str(np.random.randint(0,high=60))\n",
    "    \n",
    "    else:\n",
    "        \n",
    "        return dt\n",
    "    \n",
    "trips['started_at_new'] = trips['started_at_new'].apply(lambda x:add_random_seconds(x))\n",
    "trips['ended_at_new'] = trips['ended_at_new'].apply(lambda x:add_random_seconds(x))"
   ]
  },
  {
   "cell_type": "code",
   "execution_count": 36,
   "metadata": {},
   "outputs": [
    {
     "name": "stdout",
     "output_type": "stream",
     "text": [
      "              started_at_new         ended_at_new\n",
      "1286855  2018-09-15 15:23:10  2018-09-15 15:37:23\n",
      "544615   2019-05-25 15:54:08  2019-05-25 16:21:04\n",
      "388940    10/22/2017 11:47:5   10/22/2017 11:52:0\n",
      "103489   2021-03-20 10:03:05  2021-03-20 10:29:27\n",
      "574674   2020-08-06 19:31:34  2020-08-06 19:42:23\n",
      "272071   2018-07-17 05:46:48  2018-07-17 05:56:10\n",
      "145534     3/2/2017 16:56:59    3/2/2017 17:05:22\n",
      "68881     9/24/2014 17:08:12   9/24/2014 17:26:46\n",
      "324070    10/30/2015 10:11:4  10/30/2015 10:26:10\n",
      "995685    7/27/2016 17:24:17   7/27/2016 17:52:13\n"
     ]
    }
   ],
   "source": [
    "print(trips[['started_at_new','ended_at_new']].sample(10))"
   ]
  },
  {
   "cell_type": "markdown",
   "metadata": {},
   "source": [
    "Now we can convert to datetime."
   ]
  },
  {
   "cell_type": "code",
   "execution_count": 155,
   "metadata": {},
   "outputs": [],
   "source": [
    "trips['started_at_new'] = pd.to_datetime(trips['started_at_new'])\n",
    "trips['ended_at_new'] = pd.to_datetime(trips['ended_at_new'])"
   ]
  },
  {
   "cell_type": "code",
   "execution_count": 40,
   "metadata": {},
   "outputs": [
    {
     "name": "stdout",
     "output_type": "stream",
     "text": [
      "            started_at_new        ended_at_new\n",
      "586129 2017-08-25 18:52:45 2017-08-25 19:06:48\n",
      "205443 2020-09-29 16:03:16 2020-09-29 16:15:23\n",
      "33840  2021-01-16 12:52:17 2021-01-16 13:02:07\n",
      "536962 2016-08-25 15:24:55 2016-08-25 15:28:53\n",
      "351545 2015-06-06 10:14:00 2015-06-06 10:41:48\n",
      "84486  2016-05-26 15:59:07 2016-05-26 16:25:29\n",
      "45539  2021-03-07 11:28:59 2021-03-07 12:01:26\n",
      "410745 2021-09-10 23:01:49 2021-09-10 23:10:39\n",
      "386953 2016-06-07 07:19:31 2016-06-07 07:30:07\n",
      "566937 2021-09-19 01:16:04 2021-09-19 01:42:37\n"
     ]
    }
   ],
   "source": [
    "print(trips[['started_at_new','ended_at_new']].sample(10))"
   ]
  },
  {
   "cell_type": "markdown",
   "metadata": {},
   "source": [
    "We are trying to answer the question \"How do annual members and casual riders use Cyclistic bikes differently?\". Let's investigate when the two types of users use the bikes, and how long their trips are. We can create columns for each of the year, month, hour, and day of the week that a trip began, as well as the time between start and end of the trip (duration) in minutes."
   ]
  },
  {
   "cell_type": "code",
   "execution_count": 157,
   "metadata": {},
   "outputs": [],
   "source": [
    "trips['start_year'] = trips['started_at_new'].dt.year\n",
    "trips['start_month'] = trips['started_at_new'].dt.month\n",
    "trips['start_hour'] = trips['started_at_new'].dt.hour\n",
    "trips['duration_minutes'] = (trips['ended_at_new'] - trips['started_at_new']).dt.seconds / 60\n",
    "trips['start_day_of_week'] = trips['started_at_new'].dt.dayofweek"
   ]
  },
  {
   "cell_type": "markdown",
   "metadata": {},
   "source": [
    "It would be interesting to investigate distance travelled as best we can as well. Let's lookup from the most up-to-date stations table to create start_latitude, start_longitude, end_latitude, and end_longitude columns in the trips table. With these we can calculate the distance travelled as the crow flies."
   ]
  },
  {
   "cell_type": "code",
   "execution_count": 158,
   "metadata": {},
   "outputs": [],
   "source": [
    "stations = pd.read_csv('/Users/edanberrett/Desktop/Cyclistic Project/Divvy_Stations_2017_Q3Q4.csv',encoding = \"ISO-8859-1\",low_memory=False)"
   ]
  },
  {
   "cell_type": "code",
   "execution_count": 160,
   "metadata": {},
   "outputs": [
    {
     "name": "stdout",
     "output_type": "stream",
     "text": [
      "      id                       name     city   latitude  longitude  \\\n",
      "443  480  Albany Ave & Montrose Ave  Chicago  41.961041 -87.705866   \n",
      "\n",
      "     dpcapacity      online_date  Unnamed: 7  \n",
      "443          15  2/10/2015 14:39         NaN  \n"
     ]
    }
   ],
   "source": [
    "print(stations.sample())"
   ]
  },
  {
   "cell_type": "code",
   "execution_count": 118,
   "metadata": {},
   "outputs": [
    {
     "name": "stdout",
     "output_type": "stream",
     "text": [
      "0        2\n",
      "242    263\n",
      "222    243\n",
      "198    217\n",
      "541    582\n",
      "96     110\n",
      "193    212\n",
      "174    193\n",
      "554    595\n",
      "539    580\n",
      "Name: id, dtype: int64\n",
      "        start_station_id_new end_station_id_new\n",
      "46761           KA1503000052       TA1309000037\n",
      "1023746                   47                 22\n",
      "2196                     177                 87\n",
      "66844                    303                152\n",
      "412401                   334                268\n",
      "303187                   291                331\n",
      "211030                   144                300\n",
      "432665                   334                294\n",
      "1076626                   96                 56\n",
      "416329                   273                 37\n",
      "int64\n",
      "object\n",
      "object\n"
     ]
    }
   ],
   "source": [
    "print(stations['id'].sample(10))\n",
    "print(trips[['start_station_id_new','end_station_id_new']].sample(10))\n",
    "print(stations['id'].dtype)\n",
    "print(trips['start_station_id_new'].dtype)\n",
    "print(trips['end_station_id_new'].dtype)"
   ]
  },
  {
   "cell_type": "markdown",
   "metadata": {},
   "source": [
    "We will need to change the 'id' column in stations and 'start_station_id_new' and 'end_station_id_new' columns in trips to string data types to make the lookup work."
   ]
  },
  {
   "cell_type": "code",
   "execution_count": 162,
   "metadata": {},
   "outputs": [
    {
     "name": "stdout",
     "output_type": "stream",
     "text": [
      "432    468\n",
      "396    432\n",
      "408    444\n",
      "434    470\n",
      "427    463\n",
      "1        3\n",
      "517    558\n",
      "531    572\n",
      "551    592\n",
      "357    392\n",
      "Name: id, dtype: object\n",
      "304552     TA1308000019\n",
      "198409            125.0\n",
      "845902            299.0\n",
      "1362921            33.0\n",
      "964261            331.0\n",
      "113134            340.0\n",
      "399483            164.0\n",
      "93070             304.0\n",
      "677805            344.0\n",
      "584162            261.0\n",
      "Name: start_station_id_new, dtype: object\n",
      "309487          SL-005\n",
      "908403           212.0\n",
      "171121           212.0\n",
      "53740     TA1307000150\n",
      "92092            260.0\n",
      "228411           288.0\n",
      "48905             69.0\n",
      "588284           259.0\n",
      "102417          SL-006\n",
      "291830            94.0\n",
      "Name: end_station_id_new, dtype: object\n"
     ]
    }
   ],
   "source": [
    "stations['id'] = stations['id'].astype(str)\n",
    "trips['start_station_id_new'] = trips['start_station_id_new'].astype(str)\n",
    "trips['end_station_id_new'] = trips['end_station_id_new'].astype(str)\n",
    "\n",
    "print(stations['id'].sample(10))\n",
    "print(trips['start_station_id_new'].sample(10))\n",
    "print(trips['end_station_id_new'].sample(10))"
   ]
  },
  {
   "cell_type": "markdown",
   "metadata": {},
   "source": [
    "Looks like we will need to remove some '.0's as well now. Let's do this for all three columns to be safe."
   ]
  },
  {
   "cell_type": "code",
   "execution_count": 163,
   "metadata": {},
   "outputs": [
    {
     "name": "stdout",
     "output_type": "stream",
     "text": [
      "553    594\n",
      "576    617\n",
      "181    200\n",
      "415    451\n",
      "341    370\n",
      "19      23\n",
      "243    264\n",
      "31      35\n",
      "498    539\n",
      "61      68\n",
      "Name: id, dtype: object\n",
      "1525930              75\n",
      "100120              141\n",
      "48891               253\n",
      "1273256              99\n",
      "617204              315\n",
      "208658              198\n",
      "1353470              99\n",
      "216489              300\n",
      "81608               324\n",
      "124298     KA1503000071\n",
      "Name: start_station_id_new, dtype: object\n",
      "293033            13058\n",
      "49660             13248\n",
      "117252               60\n",
      "686145              338\n",
      "80862               162\n",
      "7645                164\n",
      "175157     TA1309000030\n",
      "1097938              35\n",
      "278682               50\n",
      "503179               31\n",
      "Name: end_station_id_new, dtype: object\n"
     ]
    }
   ],
   "source": [
    "def to_int_string(x):\n",
    "    \n",
    "    return str.split(x,'.')[0]\n",
    "\n",
    "stations['id'] = stations['id'].apply(lambda x:to_int_string(x))\n",
    "trips['start_station_id_new'] = trips['start_station_id_new'].apply(lambda x:to_int_string(x))\n",
    "trips['end_station_id_new'] = trips['end_station_id_new'].apply(lambda x:to_int_string(x))\n",
    "\n",
    "print(stations['id'].sample(10))\n",
    "print(trips['start_station_id_new'].sample(10))\n",
    "print(trips['end_station_id_new'].sample(10))"
   ]
  },
  {
   "cell_type": "markdown",
   "metadata": {},
   "source": [
    "Let's create two dictionaries matching station id to station latitude and station longitude."
   ]
  },
  {
   "cell_type": "code",
   "execution_count": 164,
   "metadata": {},
   "outputs": [],
   "source": [
    "stations_ids_latitudes = dict(stations[['id','latitude']].values)\n",
    "stations_ids_longitudes = dict(stations[['id','longitude']].values)"
   ]
  },
  {
   "cell_type": "markdown",
   "metadata": {},
   "source": [
    "Now we can create start_latitude, start_longitude, end_latitude, and end_longitude columns in the trips table by looking up from these dictionaries. If a station id in the trips table doesn't exist in the dictionaries, we will just put ''."
   ]
  },
  {
   "cell_type": "code",
   "execution_count": 165,
   "metadata": {},
   "outputs": [],
   "source": [
    "def lookup(value,table):\n",
    "    \n",
    "    if value in table:\n",
    "    \n",
    "        return table[value]\n",
    "    \n",
    "    else:\n",
    "        \n",
    "        return ''\n",
    "    \n",
    "trips['start_latitude'] = trips['start_station_id_new'].apply(lambda x:lookup(x,stations_ids_latitudes))\n",
    "trips['start_longitude'] = trips['start_station_id_new'].apply(lambda x:lookup(x,stations_ids_longitudes))\n",
    "trips['end_latitude'] = trips['end_station_id_new'].apply(lambda x:lookup(x,stations_ids_latitudes))\n",
    "trips['end_longitude'] = trips['end_station_id_new'].apply(lambda x:lookup(x,stations_ids_longitudes))"
   ]
  },
  {
   "cell_type": "code",
   "execution_count": 187,
   "metadata": {},
   "outputs": [
    {
     "name": "stdout",
     "output_type": "stream",
     "text": [
      "        start_latitude start_longitude end_latitude end_longitude\n",
      "601720         41.8782         -87.632      41.8822      -87.6411\n",
      "93648          41.9032        -87.6343      41.9046      -87.6406\n",
      "188381         41.8892        -87.6278      41.8793      -87.6399\n",
      "970428         41.8842        -87.6296      41.8847      -87.6195\n",
      "611574         41.8847        -87.6195      41.8821      -87.6398\n",
      "495753          41.964        -87.6382      41.9507      -87.6687\n",
      "575300          41.885        -87.6128      41.8904      -87.6175\n",
      "236101         41.9633        -87.6793      41.9689       -87.684\n",
      "500083         41.8923         -87.612      41.8906      -87.6221\n",
      "315866         41.7915        -87.5999      41.7993       -87.601\n",
      "264595          41.903        -87.6975      41.9033      -87.6784\n",
      "628088         41.9241        -87.6765      41.9208      -87.6637\n",
      "472086         41.9094        -87.6777                           \n",
      "22448          41.9455        -87.6464      41.9295      -87.6431\n",
      "59310          41.8819        -87.6488       41.886      -87.6309\n",
      "367256          41.885        -87.6128       41.881      -87.6241\n",
      "606825         41.9384         -87.698      41.9267      -87.6977\n",
      "135765         41.8717         -87.651      41.8695      -87.6555\n",
      "1007107        41.8895        -87.6882      41.9033      -87.6784\n",
      "183387         41.9126        -87.6814      41.9178      -87.6824\n",
      "239881         41.8904        -87.6175      41.8986      -87.6219\n",
      "82834          41.8783        -87.6439      41.8803      -87.6352\n",
      "601861         41.8892        -87.6385      41.8887      -87.6444\n",
      "77483          41.8695        -87.6555      41.8777      -87.6353\n",
      "427296         41.9324        -87.6527      41.8882      -87.6364\n",
      "327037          41.901        -87.6238       41.901      -87.6238\n",
      "153899                                                           \n",
      "324659         41.8986        -87.6219      41.8923       -87.612\n",
      "339033         41.8964         -87.661      41.9031      -87.6739\n",
      "154719         41.9184        -87.6522      41.8978      -87.6429\n"
     ]
    }
   ],
   "source": [
    "print(trips[['start_latitude','start_longitude','end_latitude','end_longitude']].sample(30))"
   ]
  },
  {
   "cell_type": "markdown",
   "metadata": {},
   "source": [
    "A sizeable majority of the trips now have start and end latitudes and longitudes. Let's calculate the direct distance travelled for those that do."
   ]
  },
  {
   "cell_type": "code",
   "execution_count": 166,
   "metadata": {},
   "outputs": [],
   "source": [
    "def distance(X):\n",
    "    \n",
    "    if '' not in [x for x in X]:\n",
    "        \n",
    "        X = [float(x) for x in X]\n",
    "        \n",
    "        return ((X[2] - X[0]) ** 2 + (X[3] - X[1]) ** 2) ** 0.5\n",
    "    \n",
    "    else:\n",
    "        \n",
    "        return ''\n",
    "    \n",
    "trips['min_distance_degrees'] = trips[['start_latitude',\n",
    "                                       'start_longitude',\n",
    "                                       'end_latitude',\n",
    "                                       'end_longitude']].apply(lambda x:distance(x),axis=1)\n",
    "\n",
    "R_E = 6.371 * 10 ** 3 #radius of earth in km\n",
    "\n",
    "def multiply(x,c):\n",
    "    \n",
    "    if x != '':\n",
    "        \n",
    "        return x * c\n",
    "    \n",
    "    else: \n",
    "    \n",
    "        return x\n",
    "\n",
    "trips['min_distance_km'] = trips['min_distance_degrees'].apply(lambda x: multiply(x,2 * np.pi / 180 * R_E))"
   ]
  },
  {
   "cell_type": "code",
   "execution_count": 147,
   "metadata": {},
   "outputs": [
    {
     "name": "stdout",
     "output_type": "stream",
     "text": [
      "        start_latitude start_longitude end_latitude end_longitude  \\\n",
      "22127                                                               \n",
      "447799                                                              \n",
      "619629         41.8813        -87.6295      41.8782       -87.632   \n",
      "1573243        41.9402         -87.653      41.9733      -87.6677   \n",
      "285740         41.8828        -87.6612      41.8794      -87.6298   \n",
      "89024          41.8969        -87.6217       41.916      -87.6689   \n",
      "25109           41.896        -87.6677      41.8918      -87.6588   \n",
      "367448         41.8978        -87.6429      41.8858      -87.6355   \n",
      "527168         41.8672        -87.6154       41.881      -87.6167   \n",
      "239679         41.8777        -87.6353      41.8855      -87.6523   \n",
      "\n",
      "        min_distance_degrees min_distance_km  \n",
      "22127                                         \n",
      "447799                                        \n",
      "619629            0.00399913        0.889366  \n",
      "1573243            0.0362534         8.06238  \n",
      "285740             0.0316064         7.02895  \n",
      "89024              0.0508614         11.3111  \n",
      "25109             0.00991591          2.2052  \n",
      "367448             0.0140277         3.11962  \n",
      "527168              0.013802         3.06942  \n",
      "239679             0.0186789         4.15401  \n"
     ]
    }
   ],
   "source": [
    "print(trips[['start_latitude',\n",
    "             'start_longitude',\n",
    "             'end_latitude',\n",
    "             'end_longitude',\n",
    "             'min_distance_degrees',\n",
    "             'min_distance_km']].sample(10))"
   ]
  },
  {
   "cell_type": "markdown",
   "metadata": {},
   "source": [
    "Let's finally calculate the minimum average trip speed for the trips that have distances."
   ]
  },
  {
   "cell_type": "code",
   "execution_count": 179,
   "metadata": {},
   "outputs": [],
   "source": [
    "def divide(x):\n",
    "    \n",
    "    if x[0] != '' and x[0] != 0 and x[1] != '':\n",
    "        \n",
    "        return x[1] / x[0]\n",
    "    \n",
    "    else:\n",
    "        \n",
    "        return ''\n",
    "    \n",
    "trips['min_average_speed_kph'] = trips[['duration_minutes','min_distance_km']].apply(lambda x:divide(x),axis=1) * 60"
   ]
  },
  {
   "cell_type": "code",
   "execution_count": 182,
   "metadata": {},
   "outputs": [
    {
     "name": "stdout",
     "output_type": "stream",
     "text": [
      "        min_distance_km  duration_minutes min_average_speed_kph\n",
      "713832                          24.600000                      \n",
      "813289                0         92.316667                     0\n",
      "81106           6.38966         15.183333                 25.25\n",
      "131519          3.66432         12.083333               18.1953\n",
      "9402                            15.100000                      \n",
      "295699          2.23649          5.500000                24.398\n",
      "98991           1.19571          4.033333               17.7874\n",
      "8612                           123.150000                      \n",
      "776302                          21.550000                      \n",
      "1036720                         28.866667                      \n"
     ]
    }
   ],
   "source": [
    "print(trips[['min_distance_km','duration_minutes','min_average_speed_kph']].sample(10))"
   ]
  },
  {
   "cell_type": "markdown",
   "metadata": {},
   "source": [
    "Let's see if we can make the user type comparison easier."
   ]
  },
  {
   "cell_type": "code",
   "execution_count": 43,
   "metadata": {},
   "outputs": [
    {
     "name": "stdout",
     "output_type": "stream",
     "text": [
      "['Customer' 'Subscriber' 'casual' 'member' 'Dependent']\n"
     ]
    }
   ],
   "source": [
    "print(trips['user_type_new'].unique())"
   ]
  },
  {
   "cell_type": "code",
   "execution_count": 50,
   "metadata": {},
   "outputs": [
    {
     "name": "stdout",
     "output_type": "stream",
     "text": [
      "Customer\n",
      "18270\n",
      "Subscriber\n",
      "54239\n",
      "casual\n",
      "12188\n",
      "member\n",
      "15302\n",
      "Dependent\n",
      "1\n"
     ]
    }
   ],
   "source": [
    "for x in trips['user_type_new'].unique():\n",
    "\n",
    "    print(x)\n",
    "    print(trips[trips['user_type_new'] == x]['trip_id_new'].count())"
   ]
  },
  {
   "cell_type": "code",
   "execution_count": 51,
   "metadata": {},
   "outputs": [
    {
     "name": "stdout",
     "output_type": "stream",
     "text": [
      "        trip_id_new start_station_id_new end_station_id_new  \\\n",
      "152864  4.48898e+06                  132                207   \n",
      "\n",
      "         start_station_name_new   end_station_name_new      started_at_new  \\\n",
      "152864  Wentworth Ave & 24th St  Emerald Ave & 28th St 2015-01-28 12:50:20   \n",
      "\n",
      "              ended_at_new user_type_new age_years_new gender_new  start_year  \\\n",
      "152864 2015-01-28 13:02:34     Dependent          1979       Male        2015   \n",
      "\n",
      "        start_month  start_hour  duration_minutes  start_day_of_week  \n",
      "152864            1          12         12.233333                  2  \n"
     ]
    }
   ],
   "source": [
    "print(trips[trips['user_type_new'] == 'Dependent'].sample())"
   ]
  },
  {
   "cell_type": "markdown",
   "metadata": {},
   "source": [
    "Let's create an is_subscriber column equal to 1 if they're a subscriber and 0 otherwise. If 'user_type_new' = \"Subscriber\" or \"member\", then they are a subscriber. We can assume the one \"Dependent\" is a subscriber, as the year of birth and gender are given. "
   ]
  },
  {
   "cell_type": "code",
   "execution_count": 168,
   "metadata": {},
   "outputs": [],
   "source": [
    "def is_subscriber(x):\n",
    "    \n",
    "    if x in ['Subscriber', 'member', 'Dependent']:\n",
    "        \n",
    "        return 1\n",
    "    \n",
    "    else:\n",
    "        \n",
    "        return 0\n",
    "    \n",
    "trips['is_subscriber'] = trips['user_type_new'].apply(lambda x:is_subscriber(x))"
   ]
  },
  {
   "cell_type": "code",
   "execution_count": 186,
   "metadata": {},
   "outputs": [
    {
     "name": "stdout",
     "output_type": "stream",
     "text": [
      "        user_type_new  is_subscriber\n",
      "259499       Customer              0\n",
      "621355     Subscriber              1\n",
      "13120      Subscriber              1\n",
      "162700         member              1\n",
      "405055         casual              0\n",
      "1038671    Subscriber              1\n",
      "1357121    Subscriber              1\n",
      "4847           casual              0\n",
      "489939         casual              0\n",
      "16025      Subscriber              1\n"
     ]
    }
   ],
   "source": [
    "print(trips[['user_type_new','is_subscriber']].sample(10))"
   ]
  },
  {
   "cell_type": "markdown",
   "metadata": {},
   "source": [
    "Let's create some visualisations comparing subscribers and non-subscribers"
   ]
  },
  {
   "cell_type": "code",
   "execution_count": 192,
   "metadata": {},
   "outputs": [
    {
     "data": {
      "image/png": "[encoded data removed]",
      "text/plain": [
       "<Figure size 432x288 with 1 Axes>"
      ]
     },
     "metadata": {
      "needs_background": "light"
     },
     "output_type": "display_data"
    },
    {
     "data": {
      "image/png": "[encoded data removed]",
      "text/plain": [
       "<Figure size 432x288 with 1 Axes>"
      ]
     },
     "metadata": {
      "needs_background": "light"
     },
     "output_type": "display_data"
    },
    {
     "data": {
      "image/png": "[encoded data removed]",
      "text/plain": [
       "<Figure size 432x288 with 1 Axes>"
      ]
     },
     "metadata": {
      "needs_background": "light"
     },
     "output_type": "display_data"
    },
    {
     "data": {
      "image/png": "[encoded data removed]",
      "text/plain": [
       "<Figure size 432x288 with 1 Axes>"
      ]
     },
     "metadata": {
      "needs_background": "light"
     },
     "output_type": "display_data"
    },
    {
     "data": {
      "image/png": "[encoded data removed]",
      "text/plain": [
       "<Figure size 432x288 with 1 Axes>"
      ]
     },
     "metadata": {
      "needs_background": "light"
     },
     "output_type": "display_data"
    },
    {
     "data": {
      "image/png": "[encoded data removed]",
      "text/plain": [
       "<Figure size 432x288 with 1 Axes>"
      ]
     },
     "metadata": {
      "needs_background": "light"
     },
     "output_type": "display_data"
    },
    {
     "data": {
      "image/png": "[encoded data removed]",
      "text/plain": [
       "<Figure size 432x288 with 1 Axes>"
      ]
     },
     "metadata": {
      "needs_background": "light"
     },
     "output_type": "display_data"
    }
   ],
   "source": [
    "'distributions of trip day of week for subscribers and non-subscribers'\n",
    "\n",
    "plt.hist(trips[trips['is_subscriber'] == 1]['start_day_of_week'],alpha=0.5,bins=np.arange(8)-0.5,color='tab:blue',label='Subscribers')\n",
    "plt.hist(trips[trips['is_subscriber'] == 0]['start_day_of_week'],alpha=0.5,bins=np.arange(8)-0.5,color='tab:orange',label='Non-Subscribers')\n",
    "plt.ylabel('Number of Trips')\n",
    "plt.xlabel('Day of Week')\n",
    "plt.legend(loc='upper right')\n",
    "plt.show()\n",
    "\n",
    "'distributions of trip durations for subscribers and non-subscribers'\n",
    "\n",
    "plt.hist(np.log10(trips[trips['is_subscriber'] == 1]['duration_minutes'] + 1),alpha=0.5,bins=100,color='tab:blue',label='Subscribers')\n",
    "plt.hist(np.log10(trips[trips['is_subscriber'] == 0]['duration_minutes'] + 1),alpha=0.5,bins=100,color='tab:orange',label='Non-Subscribers')\n",
    "plt.ylabel('Number of Trips')\n",
    "plt.xlabel('log10(Duration / Minutes + 1)')\n",
    "plt.legend(loc='upper right')\n",
    "plt.show()\n",
    "\n",
    "'distributions of trip start hours for subscribers and non-subscribers'\n",
    "\n",
    "plt.hist(trips[trips['is_subscriber'] == 1]['start_hour'],alpha=0.5,bins=np.arange(24)-0.5,color='tab:blue',label='Subscribers')\n",
    "plt.hist(trips[trips['is_subscriber'] == 0]['start_hour'],alpha=0.5,bins=np.arange(24)-0.5,color='tab:orange',label='Non-Subscribers')\n",
    "plt.ylabel('Number of Trips')\n",
    "plt.xlabel('Start Hour')\n",
    "plt.legend(loc='upper right')\n",
    "plt.show()\n",
    "\n",
    "'distributions of trip start months for subscribers and non-subscribers'\n",
    "\n",
    "plt.hist(trips[trips['is_subscriber'] == 1]['start_month'],alpha=0.5,bins=np.arange(1,14)-0.5,color='tab:blue',label='Subscribers')\n",
    "plt.hist(trips[trips['is_subscriber'] == 0]['start_month'],alpha=0.5,bins=np.arange(1,14)-0.5,color='tab:orange',label='Non-Subscribers')\n",
    "plt.ylabel('Number of Trips')\n",
    "plt.xlabel('Start Month')\n",
    "plt.legend(loc='upper right')\n",
    "plt.show()\n",
    "\n",
    "'distributions of trip start years for subscribers and non-subscribers'\n",
    "\n",
    "plt.hist(trips[trips['is_subscriber'] == 1]['start_year'],alpha=0.5,bins=9,color='tab:blue',label='Subscribers')\n",
    "plt.hist(trips[trips['is_subscriber'] == 0]['start_year'],alpha=0.5,bins=9,color='tab:orange',label='Non-Subscribers')\n",
    "plt.ylabel('Number of Trips')\n",
    "plt.xlabel('Start Year')\n",
    "plt.legend(loc='upper right')\n",
    "plt.show()\n",
    "\n",
    "'lel'\n",
    "\n",
    "plt.hist(np.log10(trips[(trips['is_subscriber'] == 1) & (trips['min_distance_km'] != '')]['min_distance_km'].astype(float) + 1),alpha=0.5,bins=100,color='tab:blue',label='Subscribers')\n",
    "plt.hist(np.log10(trips[(trips['is_subscriber'] == 0) & (trips['min_distance_km'] != '')]['min_distance_km'].astype(float) + 1),alpha=0.5,bins=100,color='tab:orange',label='Non-Subscribers')\n",
    "plt.ylabel('Number of Trips')\n",
    "plt.xlabel('log10(Minimum Distance Traveled km + 1)')\n",
    "plt.legend(loc='upper right')\n",
    "plt.show()\n",
    "\n",
    "'lel'\n",
    "\n",
    "plt.hist(np.log10(trips[(trips['is_subscriber'] == 1) & (trips['min_average_speed_kph'] != '')]['min_average_speed_kph'].astype(float) + 1),alpha=0.5,bins=100,log=True,color='tab:blue',label='Subscribers')\n",
    "plt.hist(np.log10(trips[(trips['is_subscriber'] == 0) & (trips['min_average_speed_kph'] != '')]['min_average_speed_kph'].astype(float) + 1),alpha=0.5,bins=100,log=True,color='tab:orange',label='Non-Subscribers')\n",
    "plt.ylabel('Number of Trips')\n",
    "plt.xlabel('log10(Minimum Average Speed kph + 1)')\n",
    "plt.legend(loc='upper right')\n",
    "plt.show()"
   ]
  },
  {
   "cell_type": "code",
   "execution_count": null,
   "metadata": {},
   "outputs": [],
   "source": []
  }
 ],
 "metadata": {
  "kernelspec": {
   "display_name": "Python 3",
   "language": "python",
   "name": "python3"
  },
  "language_info": {
   "codemirror_mode": {
    "name": "ipython",
    "version": 3
   },
   "file_extension": ".py",
   "mimetype": "text/x-python",
   "name": "python",
   "nbconvert_exporter": "python",
   "pygments_lexer": "ipython3",
   "version": "3.8.3"
  }
 },
 "nbformat": 4,
 "nbformat_minor": 4
}
